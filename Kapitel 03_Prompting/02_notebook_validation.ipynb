{
 "cells": [
  {
   "cell_type": "markdown",
   "id": "e40f98b0",
   "metadata": {},
   "source": [
    "# 🏗️ Einführung: Strukturierte Outputs & Validierung bei LLMs\n",
    "\n",
    "Willkommen zu diesem interaktiven Jupyter Notebook!  \n",
    "Hier lernst du, wie man Large Language Models (LLMs) dazu bringt, strukturierte Ausgaben zu erzeugen – und wie du diese Ergebnisse automatisch validieren kannst.  \n",
    "Im Fokus steht das leistungsstarke **Gemma 3 4B** Modell von Google, das lokal auf einem Uni-Server läuft. 🖥️\n",
    "\n",
    "---\n",
    "\n",
    "## 🧩 Was erwartet dich?\n",
    "\n",
    "- **Strukturierte Antworten von LLMs:**  \n",
    "    Erfahre, wie du LLMs so promptest, dass sie klar definierte, maschinenlesbare Formate wie JSON, Listen oder Tabellen ausgeben. Auch Regex-basierte Validierung wird behandelt.\n",
    "\n",
    "- **Praktische Beispiele:**  \n",
    "    Wir nutzen das OpenAI-kompatible API-Protokoll, um strukturierte Daten abzufragen und zu überprüfen.\n",
    "    (Im Backend läuft `python -m vllm.entrypoints.openai.api_server  --trust-remote-code --model google/gemma-3-4b-it --port 27090  --max-model-len 10000 --api-key token-abc123`)\n",
    "    (Im Backend läuft `python -m vllm.entrypoints.openai.api_server  --trust-remote-code --model Qwen/Qwen3-4B --port 27090  --max-model-len 10000 --api-key token-abc123`)\n",
    "\n",
    "---\n",
    "\n",
    "## 📝 Ziel\n",
    "\n",
    "Am Ende dieses Notebooks wirst du in der Lage sein:\n",
    "\n",
    "- Prompts zu formulieren, die strukturierte Outputs wie JSON oder Tabellen erzeugen 🗂️\n",
    "- Die Modellantworten automatisiert zu validieren und Fehler zu erkennen ✅\n",
    "- Best Practices für robuste, zuverlässige LLM-Workflows zu nutzen 🚦\n",
    "\n",
    "---\n",
    "\n",
    "## 📚 Quellen\n",
    "\n",
    "- [OpenAI: Validating LLM Outputs](https://platform.openai.com/docs/guides/structured-outputs?api-mode=chat)\n",
    "- [vLLM: Validating LLM Outputs](https://docs.vllm.ai/en/v0.8.2/features/structured_outputs.html\n",
    "\n",
    "---\n",
    "\n",
    "Viel Erfolg beim Ausprobieren und Validieren! 🤗"
   ]
  },
  {
   "cell_type": "code",
   "execution_count": 5,
   "id": "5ff304e3",
   "metadata": {},
   "outputs": [],
   "source": [
    "# Importiere die benötigten Bibliotheken\n",
    "from pydantic import BaseModel, Field\n",
    "from typing import List, Literal\n",
    "import requests\n",
    "import json"
   ]
  },
  {
   "cell_type": "code",
   "execution_count": 6,
   "id": "5e645795",
   "metadata": {},
   "outputs": [],
   "source": [
    "# Setze die URL der API, die du ansprechen möchtest\n",
    "URL = \"http://132.199.138.16:27090/v1\""
   ]
  },
  {
   "cell_type": "code",
   "execution_count": 7,
   "id": "b3bfcd6e",
   "metadata": {},
   "outputs": [],
   "source": [
    "import openai\n",
    "\n",
    "def execute_llm(prompt, model=\"google/gemma-3-4b-it\", stream=False, seed=0, temperature=0.0, extra_body=None, image_url=None):\n",
    "    client = openai.OpenAI(\n",
    "        base_url=URL,\n",
    "        api_key=\"token-abc123\",\n",
    "    )\n",
    "\n",
    "    messages = [\n",
    "      {\n",
    "        \"role\": \"user\", \n",
    "        \"content\": [\n",
    "          {\n",
    "            \"type\": \"text\",\n",
    "            \"text\": prompt\n",
    "          }\n",
    "        ] + ([{\"type\": \"image_url\", \"image_url\": {\"url\": image_url}}] if image_url else [])\n",
    "      }\n",
    "    ]\n",
    "\n",
    "    response = client.chat.completions.create(\n",
    "        model=model,\n",
    "        messages=messages,\n",
    "        temperature=temperature,\n",
    "        stream=stream,\n",
    "        seed=seed if seed else None,\n",
    "        extra_body=extra_body if extra_body else None,\n",
    "    )\n",
    "\n",
    "    if stream:\n",
    "        # For streaming, concatenate the content\n",
    "        return \"\".join(chunk.choices[0].delta.content or \"\" for chunk in response)\n",
    "    else:\n",
    "        return response.choices[0].message.content\n"
   ]
  },
  {
   "cell_type": "markdown",
   "id": "94c30007",
   "metadata": {},
   "source": [
    "## 1. Guided Choice\n",
    "\n",
    "\"Guided Choice\" zwingen das LLM, ausschließlich eine Phrase aus einer vorgegebenen Liste zu wählen."
   ]
  },
  {
   "cell_type": "code",
   "execution_count": 8,
   "id": "1bdadff9",
   "metadata": {},
   "outputs": [
    {
     "name": "stdout",
     "output_type": "stream",
     "text": [
      "positive\n",
      "negative\n"
     ]
    }
   ],
   "source": [
    "extra_body = {\"guided_choice\": [\"positive\", \"negative\"]}\n",
    "\n",
    "# 1. Beispiel Sentimentanalyse\n",
    "print(execute_llm(\"Text: Das Essen war super! Sentiment: \", extra_body=extra_body))\n",
    "print(execute_llm(\"Text: Das Essen ziemlich schlecht, furchtbar! Sentiment: \", extra_body=extra_body))"
   ]
  },
  {
   "cell_type": "code",
   "execution_count": 9,
   "id": "c4f26f01",
   "metadata": {},
   "outputs": [
    {
     "name": "stdout",
     "output_type": "stream",
     "text": [
      "sports\n"
     ]
    }
   ],
   "source": [
    "# 2. Beispiel Textklassifikation\n",
    "extra_body = {\"guided_choice\": [\"sports\", \"politics\", \"entertainment\", \"technology\"]}\n",
    "print(execute_llm(\"Text: Die Olympischen Spiele sind ein großes Ereignis. Kategorie: \", extra_body=extra_body))"
   ]
  },
  {
   "cell_type": "code",
   "execution_count": 10,
   "id": "8d8e3e39",
   "metadata": {},
   "outputs": [
    {
     "name": "stdout",
     "output_type": "stream",
     "text": [
      "Lisa\n"
     ]
    }
   ],
   "source": [
    "# Beispielaufruf: Es ist tatsächlich so, dass unabhängig von der Prompt niemals andere Phrasen als die in extra_body definierten zurückgegeben werden.\n",
    "extra_body = {\"guided_choice\": [\"Homer\", \"Marge\", \"Bart\", \"Lisa\", \"Maggie\"]}\n",
    "print(execute_llm(\"Ein Motor mit 5 Zylindern: \", extra_body=extra_body))"
   ]
  },
  {
   "cell_type": "markdown",
   "id": "f5959bbf",
   "metadata": {},
   "source": [
    "## 2. Guided Regex\n",
    "\n",
    "\"Guided Regex\" erzwingen, dass die Antwort des LLM einem bestimmten regulären Ausdruck entspricht."
   ]
  },
  {
   "cell_type": "code",
   "execution_count": 11,
   "id": "60a523d6",
   "metadata": {},
   "outputs": [],
   "source": [
    "extra_body = {\"guided_regex\": \"\\w+@\\w+\\.com\\n\"}\n",
    "# Beispielaufruf: Regex-Validierung\n",
    "#print(execute_llm(\"Gib mir die Google URL: \", extra_body=extra_body))"
   ]
  },
  {
   "cell_type": "markdown",
   "id": "a99d11ac",
   "metadata": {},
   "source": [
    "## 3. Guided JSON\n",
    "\"Guided JSON\" erzwingen, dass die Antwort des LLM einem bestimmten JSON-Schema entspricht."
   ]
  },
  {
   "cell_type": "code",
   "execution_count": 12,
   "id": "ff24067f",
   "metadata": {},
   "outputs": [
    {
     "name": "stdout",
     "output_type": "stream",
     "text": [
      "{\n",
      "  \"entwickler\": [\n",
      "    {\n",
      "      \"name\": \"Alice Müller\",\n",
      "      \"programmiersprache\": \"python\",\n",
      "      \"erfahrung_jahre\": 5,\n",
      "      \"spezialisierung\": \"data_science\"\n",
      "    },\n",
      "    {\n",
      "      \"name\": \"Bob Schmidt\",\n",
      "      \"programmiersprache\": \"java\",\n",
      "      \"erfahrung_jahre\": 10,\n",
      "      \"spezialisierung\": \"backend\"\n",
      "    },\n",
      "    {\n",
      "      \"name\": \"Clara Weber\",\n",
      "      \"programmiersprache\": \"javascript\",\n",
      "      \"erfahrung_jahre\": 3,\n",
      "      \"spezialisierung\": \"frontend\"\n",
      "    },\n",
      "    {\n",
      "      \"name\": \"David Klein\",\n",
      "      \"programmiersprache\": \"csharp\",\n",
      "      \"erfahrung_jahre\": 7,\n",
      "      \"spezialisierung\": \"mobile\"\n",
      "    }\n",
      "  ]\n",
      "}\n"
     ]
    }
   ],
   "source": [
    "# Definiere eine Pydantic-Klasse für einen einzelnen Softwareentwickler\n",
    "class Developer(BaseModel):\n",
    "    name: str  # Name des Entwicklers\n",
    "    programmiersprache: Literal[\"python\", \"java\", \"javascript\", \"csharp\", \"cpp\", \"go\", \"rust\", \"php\"]  # Hauptprogrammiersprache\n",
    "    erfahrung_jahre: int = Field(ge=0, le=50)  # Berufserfahrung in Jahren (0-50)\n",
    "    spezialisierung: Literal[\"frontend\", \"backend\", \"fullstack\", \"data_science\", \"devops\", \"mobile\"]  # Spezialisierungsbereich\n",
    "\n",
    "# Definiere eine Pydantic-Klasse für eine Liste von genau 4 Entwicklern\n",
    "class DeveloperList(BaseModel):\n",
    "    entwickler: List[Developer] = Field(min_length=4, max_length=4)  # Genau 4 Developer-Objekte\n",
    "\n",
    "# Erzeuge das JSON-Schema aus der DeveloperList-Klasse\n",
    "json_schema = DeveloperList.model_json_schema()\n",
    "\n",
    "# Konfiguriere extra_body mit dem JSON-Schema für strukturierte Ausgabe\n",
    "extra_body = {\"guided_json\": json_schema}\n",
    "\n",
    "# Führe LLM-Aufruf aus und erzwinge JSON-Struktur\n",
    "developers = execute_llm(\"Erstelle eine Liste von 4 Softwareentwicklern: \", extra_body=extra_body)\n",
    "\n",
    "# Parse den JSON-String in ein Python-Dictionary\n",
    "developers = json.loads(developers)\n",
    "\n",
    "# Gib das Ergebnis formatiert und mit deutschen Umlauten aus\n",
    "print(json.dumps(developers, indent=2, ensure_ascii=False))\n"
   ]
  },
  {
   "cell_type": "markdown",
   "id": "7804f687",
   "metadata": {},
   "source": [
    "### Übungsaufgabe zu Guided JSON\n",
    "\n",
    "Um die Validierung von JSON-Ausgaben zu üben, erstelle ein Prompt, das das LLM anweist, eine strukturierte Antwort im JSON-Format zu liefern.\n",
    "\n",
    "---\n",
    "\n",
    "#### 🎯 Aufgabe\n",
    "\n",
    "Definiere ein einfaches JSON-Schema um Dummy-Daten zu **Musikern** zu generieren.\n",
    "\n",
    "#### 🎤 Interpret-Schema\n",
    "\n",
    "| Feld     | Beschreibung                                                |\n",
    "| -------- | ----------------------------------------------------------- |\n",
    "| `name`   | Name des Interpreten                                        |\n",
    "| `age`    | Alter (zwischen 18 und 100)                                 |\n",
    "| `genre`  | Musikrichtung aus: **Rock**, **Pop**, **Jazz**, **Klassik** |\n",
    "| `albums` | Liste von Alben                                             |\n",
    "\n",
    "#### 💿 Album-Schema\n",
    "\n",
    "| Feld           | Beschreibung                              |\n",
    "| -------------- | ----------------------------------------- |\n",
    "| `title`        | Album-Titel                               |\n",
    "| `release_year` | Erscheinungsjahr (zwischen 1900 und 2023) |\n",
    "| `tracks`       | Liste von Songtiteln                      |\n",
    "\n",
    "---\n",
    "\n",
    "#### 💡 Tipp\n",
    "\n",
    "Nutze Pydantic-Klassen mit `Field()`-Validierungen und das `Literal`-Typ-System für die Genre-Auswahl!\n"
   ]
  },
  {
   "cell_type": "code",
   "execution_count": 13,
   "id": "baa4a52f",
   "metadata": {},
   "outputs": [],
   "source": [
    "### Dein Code..."
   ]
  },
  {
   "cell_type": "markdown",
   "id": "0306b1d2",
   "metadata": {},
   "source": [
    "## 4. Guided JSON für strukturierte Extraktion von Informationen aus Dokumenten\n",
    "Beispiel für strukturierte Extraktion von Informationen aus einem Bild.\n",
    "\n",
    "Beispiel:\n",
    "\n",
    "<img src=\"https://encrypted-tbn0.gstatic.com/images?q=tbn:ANd9GcQ0s5B5TIgNtd8NBG31BBu2v1cCxIZi3AEE2g&s\" alt=\"Structured Extraction Example\" width=\"100\">"
   ]
  },
  {
   "cell_type": "code",
   "execution_count": 14,
   "id": "f8025ac1",
   "metadata": {},
   "outputs": [
    {
     "name": "stdout",
     "output_type": "stream",
     "text": [
      "Auf dem Bild sehe ich die Mona Lisa, ein berühmtes Gemälde von Leonardo da Vinci. Es ist ein Porträt einer Frau, die lächelt und in die Ferne blickt. Sie trägt ein dunkles Gewand mit bunten Akzenten und sitzt auf einem Stuhl. Im Hintergrund ist eine Landschaft zu sehen. \n",
      "\n",
      "Das Gemälde ist bekannt für seine subtile Technik, insbesondere für die \"sfumato\"-Technik, die einen weichen, verschwommenen Effekt erzeugt und die Konturen der Figur und des Hintergrunds verschmilzt.\n"
     ]
    }
   ],
   "source": [
    "# Beginnen wir zunächst ohne eine JSON Validierung, um die Ausgabe zu testen\n",
    "# Das LLM soll zunächst in der Lage sein, ein Bild zu analysieren und eine Antwort zu generieren\n",
    "\n",
    "image_url = \"https://encrypted-tbn0.gstatic.com/images?q=tbn:ANd9GcQ0s5B5TIgNtd8NBG31BBu2v1cCxIZi3AEE2g&s\"\n",
    "print(execute_llm(\"Was siehst du auf diesem Bild: \", image_url=image_url))"
   ]
  },
  {
   "cell_type": "markdown",
   "id": "0742ce2a",
   "metadata": {},
   "source": [
    "### 4. Guided JSON für strukturierte Extraktion von Informationen aus Dokumenten\n",
    "\n",
    "Nun werden wir ein komplexeres Beispiel betrachten: die strukturierte Extraktion von Informationen aus einem Rechnungsdokument.\n",
    "\n",
    "#### Ziel der Übung\n",
    "\n",
    "Wir möchten ein Rechnungsdokument analysieren und die wichtigsten Informationen automatisch extrahieren:\n",
    "- **Liste der Produkte** mit Details\n",
    "- **Gesamtsumme** der Rechnung\n",
    "\n",
    "#### 🖼️ Das Dokument\n",
    "\n",
    "So sieht das zu analysierende Rechnungsdokument aus:\n",
    "\n",
    "<img src=\"https://www.buchhaltungsbutler.de/wp-content/uploads/rechnungsvorlage11-e1692972330525.png\" alt=\"Rechnung Beispiel\" width=\"400\">"
   ]
  },
  {
   "cell_type": "code",
   "execution_count": 19,
   "id": "4ad8f789",
   "metadata": {},
   "outputs": [
    {
     "name": "stdout",
     "output_type": "stream",
     "text": [
      "{\n",
      "  \"gesamtbetrag\": 35,\n",
      "  \"artikel\": [\n",
      "    {\n",
      "      \"anzahl\": 5,\n",
      "      \"einzelpreis\": 3,\n",
      "      \"beschreibung\": \"Musterprodukt\"\n",
      "    },\n",
      "    {\n",
      "      \"anzahl\": 3,\n",
      "      \"einzelpreis\": 5,\n",
      "      \"beschreibung\": \"Musterprodukt\"\n",
      "    }\n",
      "  ]\n",
      "}\n"
     ]
    }
   ],
   "source": [
    "image_url = \"https://www.buchhaltungsbutler.de/wp-content/uploads/rechnungsvorlage11-e1692972330525.png\"\n",
    "\n",
    "# Beginnen wir damit, ein Pydantic-Schema für eine Rechnung zu definieren\n",
    "class InvoiceItem(BaseModel):\n",
    "    anzahl: int = Field(ge=0, le=5, description=\"Anzahl der Artikel\")\n",
    "    einzelpreis: int = Field(le=1000000,description=\"Preis pro Artikel in Euro\")\n",
    "    beschreibung: str = Field(min_length=1, max_length=100, description=\"Beschreibung des Artikels\")\n",
    "\n",
    "class Invoice(BaseModel):\n",
    "    gesamtbetrag: float = Field(gt=0, description=\"Gesamtbetrag der Rechnung (größer als 0)\")\n",
    "    artikel: List[InvoiceItem] = Field(min_length=1, description=\"Liste der Artikel (1-5 Artikel)\")\n",
    "    \n",
    "# Konfiguriere extra_body mit dem JSON-Schema für strukturierte Ausgabe\n",
    "extra_body = {\"guided_json\": Invoice.model_json_schema()}\n",
    "# Führe LLM-Aufruf aus und erzwinge JSON-Struktur\n",
    "invoice = execute_llm(\"Analysiere die Rechnung auf dem Bild und gib mir die Details: \", image_url=image_url, extra_body=extra_body)\n",
    "# Parse den JSON-String in ein Python-Dictionary\n",
    "invoice = json.loads(invoice)\n",
    "# Gib das Ergebnis formatiert und mit deutschen Umlauten aus\n",
    "print(json.dumps(invoice, indent=2, ensure_ascii=False))"
   ]
  }
 ],
 "metadata": {
  "kernelspec": {
   "display_name": "tensorflow_m1",
   "language": "python",
   "name": "python3"
  },
  "language_info": {
   "codemirror_mode": {
    "name": "ipython",
    "version": 3
   },
   "file_extension": ".py",
   "mimetype": "text/x-python",
   "name": "python",
   "nbconvert_exporter": "python",
   "pygments_lexer": "ipython3",
   "version": "3.11.3"
  }
 },
 "nbformat": 4,
 "nbformat_minor": 5
}
