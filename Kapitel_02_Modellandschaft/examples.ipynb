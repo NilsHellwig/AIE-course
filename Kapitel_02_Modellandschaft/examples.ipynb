{
 "cells": [
  {
   "cell_type": "code",
   "execution_count": null,
   "id": "c3c822ef",
   "metadata": {},
   "outputs": [],
   "source": [
    "from transformers import AutoModelForCausalLM, AutoTokenizer\n",
    "import torch\n",
    "\n",
    "model_name = \"mistralai/Mistral-7B-Instruct-v0.1\"\n",
    "\n",
    "tokenizer = AutoTokenizer.from_pretrained(model_name)\n",
    "model = AutoModelForCausalLM.from_pretrained(model_name, torch_dtype=torch.float16, device_map=\"auto\")\n",
    "\n",
    "input_text = \"Erkläre mir den Unterschied zwischen offenen und proprietären LLMs.\"\n",
    "inputs = tokenizer(input_text, return_tensors=\"pt\").to(\"cuda\")\n",
    "outputs = model.generate(**inputs, max_new_tokens=100)\n",
    "\n",
    "print(tokenizer.decode(outputs[0], skip_special_tokens=True))"
   ]
  },
  {
   "cell_type": "code",
   "execution_count": null,
   "id": "4cbd7e94",
   "metadata": {},
   "outputs": [],
   "source": [
    "from huggingface_hub import InferenceClient\n",
    "\n",
    "client = InferenceClient(model=\"mistralai/Mistral-7B-Instruct-v0.1\")\n",
    "response = client.text_generation(\"Was ist Quantisierung bei LLMs?\", max_new_tokens=100)\n",
    "print(response)"
   ]
  },
  {
   "cell_type": "code",
   "execution_count": null,
   "id": "312266ae",
   "metadata": {},
   "outputs": [],
   "source": [
    "import requests\n",
    "\n",
    "response = requests.post(\n",
    "    \"http://localhost:11434/api/generate\",\n",
    "    json={\"model\": \"mistral\", \"prompt\": \"Erkläre Few-Shot Prompting.\", \"stream\": False}\n",
    ")\n",
    "print(response.json()[\"response\"])"
   ]
  },
  {
   "cell_type": "code",
   "execution_count": null,
   "id": "ab9deb51",
   "metadata": {},
   "outputs": [],
   "source": [
    "import ollama\n",
    "ollama.generate(model='mistral', prompt='Erkläre Few-Shot Prompting.')"
   ]
  },
  {
   "cell_type": "code",
   "execution_count": null,
   "id": "11b20ce3",
   "metadata": {},
   "outputs": [],
   "source": [
    "from langchain import HuggingFacePipeline\n",
    "from transformers import pipeline, AutoTokenizer, AutoModelForCausalLM\n",
    "\n",
    "model_name = \"mistralai/Mistral-7B-Instruct-v0.1\"\n",
    "\n",
    "pipe = pipeline(\"text-generation\", model=model_name, tokenizer=model_name, device=0)\n",
    "llm = HuggingFacePipeline(pipeline=pipe)\n",
    "\n",
    "print(llm(\"Nenne mir 3 Prompting-Strategien.\"))"
   ]
  },
  {
   "cell_type": "code",
   "execution_count": null,
   "id": "ffe94363",
   "metadata": {},
   "outputs": [],
   "source": [
    "# TODO: Wieso GPUs und nicht CPUs\n",
    "# TODO: Zeigen, wie man template deaktiviert\n"
   ]
  }
 ],
 "metadata": {
  "kernelspec": {
   "display_name": "tensorflow_m1",
   "language": "python",
   "name": "python3"
  },
  "language_info": {
   "codemirror_mode": {
    "name": "ipython",
    "version": 3
   },
   "file_extension": ".py",
   "mimetype": "text/x-python",
   "name": "python",
   "nbconvert_exporter": "python",
   "pygments_lexer": "ipython3",
   "version": "3.11.3"
  }
 },
 "nbformat": 4,
 "nbformat_minor": 5
}
